{
  "cells": [
    {
      "cell_type": "markdown",
      "source": [
        "# ResNet50 with Softmax and SVM classifier"
      ],
      "metadata": {
        "id": "PmuQZw5nrw9b"
      }
    },
    {
      "cell_type": "markdown",
      "source": [
        "#Data Loading"
      ],
      "metadata": {
        "id": "STfZ4Dwfosp6"
      }
    },
    {
      "cell_type": "code",
      "execution_count": 1,
      "metadata": {
        "colab": {
          "base_uri": "https://localhost:8080/"
        },
        "id": "Z74xK8q04afU",
        "outputId": "d8624753-78a0-4415-e21d-71b15a94147b"
      },
      "outputs": [
        {
          "output_type": "stream",
          "name": "stdout",
          "text": [
            "Mounted at /content/drive\n"
          ]
        }
      ],
      "source": [
        "from google.colab import drive\n",
        "drive.mount('/content/drive')"
      ]
    },
    {
      "cell_type": "code",
      "execution_count": 2,
      "metadata": {
        "id": "2jz-RITv4Nmx"
      },
      "outputs": [],
      "source": [
        "import os\n",
        "import numpy as np\n",
        "import pandas as pd\n",
        "import matplotlib.pyplot as plt\n",
        "from tensorflow.keras.applications.resnet50 import ResNet50\n",
        "from tensorflow.keras.regularizers import l2\n",
        "from tensorflow.keras.preprocessing.image import ImageDataGenerator\n",
        "from tensorflow.keras.models import Sequential\n",
        "from tensorflow.keras.layers import Dense, GlobalAveragePooling2D, GlobalMaxPooling2D, Activation\n",
        "from tensorflow.keras.optimizers import Adam"
      ]
    },
    {
      "cell_type": "code",
      "execution_count": 3,
      "metadata": {
        "id": "9-wsO0VD6hrN"
      },
      "outputs": [],
      "source": [
        "train_dir='/content/drive/MyDrive/Vegetable_Images/train'\n",
        "val_dir='/content/drive/MyDrive/Vegetable_Images/validation'\n",
        "test_dir='/content/drive/MyDrive/Vegetable_Images/test'"
      ]
    },
    {
      "cell_type": "markdown",
      "source": [
        "#ResNet50 with Softmax classifier"
      ],
      "metadata": {
        "id": "Z4Hh_5BFumuJ"
      }
    },
    {
      "cell_type": "code",
      "source": [
        "train_datagen = ImageDataGenerator(rescale=1./255,\n",
        "                  shear_range=0.2,\n",
        "                  horizontal_flip=True)\n",
        "valid_datagen = ImageDataGenerator(rescale=1./255,\n",
        "                  shear_range=0.2,\n",
        "                  horizontal_flip=True)\n",
        "test_datagen = ImageDataGenerator(rescale=1./255)\n",
        "\n",
        "\n",
        "train_ds = train_datagen.flow_from_directory(train_dir, target_size=(224, 224), batch_size=32, seed=123, class_mode='categorical')\n",
        "val_ds = valid_datagen.flow_from_directory(val_dir, target_size=(224, 224), batch_size=32, seed=123, class_mode='categorical')\n",
        "test_ds = test_datagen.flow_from_directory(test_dir, target_size=(224, 224), batch_size=1, seed=123, class_mode='categorical')"
      ],
      "metadata": {
        "colab": {
          "base_uri": "https://localhost:8080/"
        },
        "id": "HjZXdGBpmVtG",
        "outputId": "64d78626-b8db-4fb7-df6b-d640b39aa4ff"
      },
      "execution_count": null,
      "outputs": [
        {
          "output_type": "stream",
          "name": "stdout",
          "text": [
            "Found 15000 images belonging to 15 classes.\n",
            "Found 3000 images belonging to 15 classes.\n",
            "Found 3000 images belonging to 15 classes.\n"
          ]
        }
      ]
    },
    {
      "cell_type": "code",
      "source": [
        "model = Sequential()\n",
        "model.add(ResNet50(include_top=False,weights=\"imagenet\"))\n",
        "model.add(GlobalAveragePooling2D())\n",
        "model.add(Dense(1024, activation='relu'))\n",
        "model.add(Dense(512, activation='relu'))\n",
        "model.add(Dense(15, activation='softmax'))\n",
        "model.summary()"
      ],
      "metadata": {
        "id": "QBEh9Wshmr5r",
        "colab": {
          "base_uri": "https://localhost:8080/"
        },
        "outputId": "5fd789dd-3e51-480e-98ed-12cdf8bd3c11"
      },
      "execution_count": 4,
      "outputs": [
        {
          "output_type": "stream",
          "name": "stdout",
          "text": [
            "Downloading data from https://storage.googleapis.com/tensorflow/keras-applications/resnet/resnet50_weights_tf_dim_ordering_tf_kernels_notop.h5\n",
            "94773248/94765736 [==============================] - 1s 0us/step\n",
            "94781440/94765736 [==============================] - 1s 0us/step\n",
            "Model: \"sequential\"\n",
            "_________________________________________________________________\n",
            " Layer (type)                Output Shape              Param #   \n",
            "=================================================================\n",
            " resnet50 (Functional)       (None, None, None, 2048)  23587712  \n",
            "                                                                 \n",
            " global_average_pooling2d (G  (None, 2048)             0         \n",
            " lobalAveragePooling2D)                                          \n",
            "                                                                 \n",
            " dense (Dense)               (None, 1024)              2098176   \n",
            "                                                                 \n",
            " dense_1 (Dense)             (None, 512)               524800    \n",
            "                                                                 \n",
            " dense_2 (Dense)             (None, 15)                7695      \n",
            "                                                                 \n",
            "=================================================================\n",
            "Total params: 26,218,383\n",
            "Trainable params: 26,165,263\n",
            "Non-trainable params: 53,120\n",
            "_________________________________________________________________\n"
          ]
        }
      ]
    },
    {
      "cell_type": "code",
      "source": [
        "optimizer = Adam(learning_rate=0.0002)\n",
        "model.compile(loss='categorical_crossentropy', optimizer=optimizer, metrics=['accuracy'])\n",
        "\n",
        "hist_softmax = model.fit(\n",
        "        train_ds,\n",
        "        validation_data = val_ds,\n",
        "        epochs = 5,\n",
        "        steps_per_epoch = len(train_ds),\n",
        "        validation_steps = len(val_ds))"
      ],
      "metadata": {
        "colab": {
          "base_uri": "https://localhost:8080/"
        },
        "id": "tb-C_znZoIxj",
        "outputId": "96a9ee83-affb-4a9c-c0ac-be4100fd8f30"
      },
      "execution_count": null,
      "outputs": [
        {
          "output_type": "stream",
          "name": "stdout",
          "text": [
            "Epoch 1/5\n",
            "469/469 [==============================] - 405s 845ms/step - loss: 0.1356 - accuracy: 0.9655 - val_loss: 5.5926 - val_accuracy: 0.0703\n",
            "Epoch 2/5\n",
            "469/469 [==============================] - 396s 844ms/step - loss: 0.0491 - accuracy: 0.9855 - val_loss: 0.6018 - val_accuracy: 0.8133\n",
            "Epoch 3/5\n",
            "469/469 [==============================] - 397s 845ms/step - loss: 0.0324 - accuracy: 0.9913 - val_loss: 0.2051 - val_accuracy: 0.9617\n",
            "Epoch 4/5\n",
            "469/469 [==============================] - 398s 848ms/step - loss: 0.0499 - accuracy: 0.9867 - val_loss: 0.0083 - val_accuracy: 0.9980\n",
            "Epoch 5/5\n",
            "469/469 [==============================] - 391s 834ms/step - loss: 0.0098 - accuracy: 0.9972 - val_loss: 0.0031 - val_accuracy: 0.9990\n"
          ]
        }
      ]
    },
    {
      "cell_type": "code",
      "source": [
        "model.evaluate(test_ds)"
      ],
      "metadata": {
        "colab": {
          "base_uri": "https://localhost:8080/"
        },
        "id": "DdzuYMh_URMI",
        "outputId": "b7efa99f-00c4-458d-ee84-6dca9d6efd9c"
      },
      "execution_count": null,
      "outputs": [
        {
          "output_type": "stream",
          "name": "stdout",
          "text": [
            "3000/3000 [==============================] - 92s 31ms/step - loss: 0.0043 - accuracy: 0.9980\n"
          ]
        },
        {
          "output_type": "execute_result",
          "data": {
            "text/plain": [
              "[0.0043105087243020535, 0.9980000257492065]"
            ]
          },
          "metadata": {},
          "execution_count": 17
        }
      ]
    },
    {
      "cell_type": "code",
      "source": [
        "def plot_history(r):\n",
        "  plt.plot(r.history['accuracy'], label='train acc')\n",
        "  plt.plot(r.history['val_accuracy'], label='val acc')\n",
        "  plt.legend(loc='lower right')\n",
        "  plt.title('Model Accuracy')\n",
        "  plt.ylabel('Accuracy')\n",
        "  plt.xlabel('Epoch')\n",
        "  plt.xticks(np.arange(0, 5, step=1))\n",
        "  plt.yticks(np.arange(0, 1.01, step=0.2))\n",
        "  plt.show()\n",
        "  # plt.savefig('AccVal_acc')\n",
        "\n",
        "  plt.plot(r.history['loss'], label='train loss')\n",
        "  plt.plot(r.history['val_loss'], label='val loss')\n",
        "  plt.legend(loc='upper right')\n",
        "  plt.title('Model Loss')\n",
        "  plt.ylabel('Loss')\n",
        "  plt.xlabel('Epoch')\n",
        "  plt.xticks(np.arange(0, 5, step=1))\n",
        "  plt.show()\n",
        "  # plt.savefig('LossVal_acc')\n",
        "\n",
        "plot_history(hist_softmax)"
      ],
      "metadata": {
        "colab": {
          "base_uri": "https://localhost:8080/",
          "height": 573
        },
        "id": "BASH_EuD_lJo",
        "outputId": "a94794b3-886b-4c1f-cfbe-d6b8a5e0eca2"
      },
      "execution_count": null,
      "outputs": [
        {
          "output_type": "display_data",
          "data": {
            "text/plain": [
              "<Figure size 432x288 with 1 Axes>"
            ],
            "image/png": "[encoded data removed]"
          },
          "metadata": {
            "needs_background": "light"
          }
        },
        {
          "output_type": "display_data",
          "data": {
            "text/plain": [
              "<Figure size 432x288 with 1 Axes>"
            ],
            "image/png": "[encoded data removed]"
          },
          "metadata": {
            "needs_background": "light"
          }
        }
      ]
    },
    {
      "cell_type": "markdown",
      "metadata": {
        "id": "0T1Xkr8XHhWx"
      },
      "source": [
        "#ResNet50 with SVM classifier"
      ]
    },
    {
      "cell_type": "code",
      "source": [
        "train_datagen = ImageDataGenerator(rescale=1./255,\n",
        "                  shear_range=0.2,\n",
        "                  horizontal_flip=True)\n",
        "valid_datagen = ImageDataGenerator(rescale=1./255,\n",
        "                  shear_range=0.2,\n",
        "                  horizontal_flip=True)\n",
        "test_datagen = ImageDataGenerator(rescale=1./255)\n",
        "\n",
        "\n",
        "train_ds = train_datagen.flow_from_directory(train_dir, target_size=(224, 224), batch_size=32, seed=123, class_mode='categorical')\n",
        "val_ds = valid_datagen.flow_from_directory(val_dir, target_size=(224, 224), batch_size=32, seed=123, class_mode='categorical')\n",
        "test_ds = test_datagen.flow_from_directory(test_dir, target_size=(224, 224), batch_size=1, seed=123, class_mode='categorical')"
      ],
      "metadata": {
        "colab": {
          "base_uri": "https://localhost:8080/"
        },
        "id": "q6puSPSvuI1z",
        "outputId": "e2c0e28a-f0df-4235-f27a-e6bfbdfbb615"
      },
      "execution_count": null,
      "outputs": [
        {
          "output_type": "stream",
          "name": "stdout",
          "text": [
            "Found 15000 images belonging to 15 classes.\n",
            "Found 3000 images belonging to 15 classes.\n",
            "Found 3000 images belonging to 15 classes.\n"
          ]
        }
      ]
    },
    {
      "cell_type": "code",
      "source": [
        "model = Sequential()\n",
        "model.add(ResNet50(include_top=False,weights=\"imagenet\"))\n",
        "model.add(GlobalAveragePooling2D())\n",
        "model.add(Dense(1024, activation='relu'))\n",
        "model.add(Dense(512, activation='relu'))\n",
        "model.add(Dense(15, kernel_regularizer=l2(0.001)))\n",
        "model.add(Activation('linear'))\n",
        "model.summary()"
      ],
      "metadata": {
        "id": "Z5ok3rJhpfX-",
        "colab": {
          "base_uri": "https://localhost:8080/"
        },
        "outputId": "48cfbb9f-358d-4f96-a899-da851d6ee681"
      },
      "execution_count": 5,
      "outputs": [
        {
          "output_type": "stream",
          "name": "stdout",
          "text": [
            "Model: \"sequential_1\"\n",
            "_________________________________________________________________\n",
            " Layer (type)                Output Shape              Param #   \n",
            "=================================================================\n",
            " resnet50 (Functional)       (None, None, None, 2048)  23587712  \n",
            "                                                                 \n",
            " global_average_pooling2d_1   (None, 2048)             0         \n",
            " (GlobalAveragePooling2D)                                        \n",
            "                                                                 \n",
            " dense_3 (Dense)             (None, 1024)              2098176   \n",
            "                                                                 \n",
            " dense_4 (Dense)             (None, 512)               524800    \n",
            "                                                                 \n",
            " dense_5 (Dense)             (None, 15)                7695      \n",
            "                                                                 \n",
            " activation (Activation)     (None, 15)                0         \n",
            "                                                                 \n",
            "=================================================================\n",
            "Total params: 26,218,383\n",
            "Trainable params: 26,165,263\n",
            "Non-trainable params: 53,120\n",
            "_________________________________________________________________\n"
          ]
        }
      ]
    },
    {
      "cell_type": "code",
      "source": [
        "model.compile(loss='squared_hinge', optimizer='adam', metrics=['accuracy'])\n",
        "\n",
        "hist_svm = model.fit(\n",
        "      train_ds,\n",
        "      validation_data = val_ds,\n",
        "      epochs = 5,\n",
        "      steps_per_epoch = len(train_ds),\n",
        "      validation_steps = len(val_ds))"
      ],
      "metadata": {
        "colab": {
          "base_uri": "https://localhost:8080/"
        },
        "id": "0VwLSsszw4Sq",
        "outputId": "c6828532-ccb6-42c8-bf2c-edd3842e8b5a"
      },
      "execution_count": null,
      "outputs": [
        {
          "output_type": "stream",
          "name": "stdout",
          "text": [
            "Epoch 1/5\n",
            "469/469 [==============================] - 5408s 12s/step - loss: 0.0828 - accuracy: 0.8817 - val_loss: 1.5227 - val_accuracy: 0.0667\n",
            "Epoch 2/5\n",
            "469/469 [==============================] - 285s 607ms/step - loss: 0.0262 - accuracy: 0.9677 - val_loss: 0.3255 - val_accuracy: 0.6080\n",
            "Epoch 3/5\n",
            "469/469 [==============================] - 283s 602ms/step - loss: 0.0185 - accuracy: 0.9765 - val_loss: 0.0434 - val_accuracy: 0.9157\n",
            "Epoch 4/5\n",
            "469/469 [==============================] - 283s 603ms/step - loss: 0.0132 - accuracy: 0.9824 - val_loss: 0.0549 - val_accuracy: 0.8787\n",
            "Epoch 5/5\n",
            "469/469 [==============================] - 282s 602ms/step - loss: 0.0265 - accuracy: 0.9530 - val_loss: 0.0138 - val_accuracy: 0.9770\n"
          ]
        },
        {
          "output_type": "execute_result",
          "data": {
            "text/plain": [
              "<keras.callbacks.History at 0x7f99e2121450>"
            ]
          },
          "metadata": {},
          "execution_count": 6
        }
      ]
    },
    {
      "cell_type": "code",
      "source": [
        "model.evaluate(test_ds)"
      ],
      "metadata": {
        "colab": {
          "base_uri": "https://localhost:8080/"
        },
        "id": "P4GAyRnT08CB",
        "outputId": "62727ad2-b708-4fa8-a86d-1580b8500368"
      },
      "execution_count": null,
      "outputs": [
        {
          "output_type": "stream",
          "name": "stdout",
          "text": [
            "3000/3000 [==============================] - 1152s 384ms/step - loss: 0.0136 - accuracy: 0.9770\n"
          ]
        },
        {
          "output_type": "execute_result",
          "data": {
            "text/plain": [
              "[0.01358156930655241, 0.9769999980926514]"
            ]
          },
          "metadata": {},
          "execution_count": 7
        }
      ]
    },
    {
      "cell_type": "code",
      "source": [
        "plot_history(hist_svm)"
      ],
      "metadata": {
        "colab": {
          "base_uri": "https://localhost:8080/",
          "height": 573
        },
        "id": "wjarAgHjqJ_O",
        "outputId": "ee7d419a-ed04-4005-c2ed-897778f39610"
      },
      "execution_count": null,
      "outputs": [
        {
          "output_type": "display_data",
          "data": {
            "text/plain": [
              "<Figure size 432x288 with 1 Axes>"
            ],
            "image/png": "[encoded data removed]"
          },
          "metadata": {
            "needs_background": "light"
          }
        },
        {
          "output_type": "display_data",
          "data": {
            "text/plain": [
              "<Figure size 432x288 with 1 Axes>"
            ],
            "image/png": "[encoded data removed]"
          },
          "metadata": {
            "needs_background": "light"
          }
        }
      ]
    },
    {
      "cell_type": "markdown",
      "source": [
        "# Comparison results"
      ],
      "metadata": {
        "id": "g6BVMNPvENVU"
      }
    },
    {
      "cell_type": "code",
      "source": [
        "import matplotlib.pyplot as plt\n",
        "import numpy as np\n",
        "\n",
        "labels = [\"Train Loss\", \"Train_Acc\", \"Val Loss\", \"Val_Acc\"]\n",
        "softmax = [0.0098, 0.9972, 0.0031, 0.9990]\n",
        "svm = [0.0265, 0.9530, 0.0138, 0.9770]\n",
        "\n",
        "x = np.arange(len(labels)) # the label locations\n",
        "width = 0.35 # the width of the bars\n",
        "\n",
        "fig, ax = plt.subplots(figsize=(11, 7))\n",
        "rects1 = ax.bar(x - width, softmax, width, label='ResNet50 + Softmax')\n",
        "rects2 = ax.bar(x, svm, width, label='ResNet50 + SVM')\n",
        "\n",
        "# Add some text for labels, title and custom x-axis tick labels, etc.\n",
        "ax.set_ylabel('Values', fontsize=14)\n",
        "ax.set_title('Comparison After Training for 5 Epochs', fontsize=15)\n",
        "ax.set_xticks(x)\n",
        "ax.set_xticklabels(labels, fontsize=14)\n",
        "ax.legend(prop={'size': 13}, loc='upper left')\n",
        "\n",
        "\n",
        "def autolabel(rects):\n",
        "  for rect in rects:\n",
        "    height = rect.get_height()\n",
        "    ax.annotate('{}'.format(height),\n",
        "    xy=(rect.get_x() + rect.get_width() / 2, height),\n",
        "    xytext=(0, 3), # 3 points vertical offset\n",
        "    textcoords=\"offset points\",\n",
        "    ha='center', va='bottom', fontsize=14)\n",
        "\n",
        "\n",
        "autolabel(rects1)\n",
        "autolabel(rects2)\n",
        "\n",
        "fig.tight_layout()\n",
        "\n",
        "plt.show()"
      ],
      "metadata": {
        "colab": {
          "base_uri": "https://localhost:8080/",
          "height": 513
        },
        "id": "46CPXWrz6owa",
        "outputId": "4361eb4e-7cd5-4880-c2ba-05e060d7ed7b"
      },
      "execution_count": null,
      "outputs": [
        {
          "output_type": "display_data",
          "data": {
            "text/plain": [
              "<Figure size 792x504 with 1 Axes>"
            ],
            "image/png": "[encoded data removed]"
          },
          "metadata": {
            "needs_background": "light"
          }
        }
      ]
    },
    {
      "cell_type": "code",
      "source": [
        "accs = [0.9955, 0.9379, 0.9980, 0.9770]\n",
        "plt.plot(accs, marker='s', c='red')\n",
        "plt.ylabel('Accuracy')\n",
        "# plt.xlabel('Model')\n",
        "plt.title('Model Test Accuracy')\n",
        "plt.xticks(np.arange(0, 4, step=1), ['CNN+Softmax','CNN+SVM','ResNet50+Softmax','ResNet50+SVM'])\n",
        "plt.show()"
      ],
      "metadata": {
        "colab": {
          "base_uri": "https://localhost:8080/",
          "height": 281
        },
        "id": "qmilY6h-z2OB",
        "outputId": "b4d60999-3250-4b80-bdc3-53b8a9247617"
      },
      "execution_count": null,
      "outputs": [
        {
          "output_type": "display_data",
          "data": {
            "text/plain": [
              "<Figure size 432x288 with 1 Axes>"
            ],
            "image/png": "[encoded data removed]"
          },
          "metadata": {
            "needs_background": "light"
          }
        }
      ]
    },
    {
      "cell_type": "code",
      "source": [
        ""
      ],
      "metadata": {
        "id": "I9GOJIjB8FtP"
      },
      "execution_count": null,
      "outputs": []
    }
  ],
  "metadata": {
    "accelerator": "GPU",
    "colab": {
      "collapsed_sections": [],
      "name": "ResNet50 + Softmax / SVM.ipynb",
      "provenance": []
    },
    "kernelspec": {
      "display_name": "Python 3",
      "name": "python3"
    },
    "language_info": {
      "name": "python"
    }
  },
  "nbformat": 4,
  "nbformat_minor": 0
}