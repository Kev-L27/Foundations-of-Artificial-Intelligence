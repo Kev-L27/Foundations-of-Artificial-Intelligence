{
  "nbformat": 4,
  "nbformat_minor": 0,
  "metadata": {
    "colab": {
      "name": "Copy of Resnet.ipynb",
      "provenance": [],
      "collapsed_sections": []
    },
    "kernelspec": {
      "name": "python3",
      "display_name": "Python 3"
    },
    "language_info": {
      "name": "python"
    }
  },
  "cells": [
    {
      "cell_type": "code",
      "source": [
        "from google.colab import drive\n",
        "drive.mount('/content/drive')"
      ],
      "metadata": {
        "colab": {
          "base_uri": "https://localhost:8080/"
        },
        "id": "Z74xK8q04afU",
        "outputId": "b3d605d9-433f-4413-f1be-4a2d61f1d493"
      },
      "execution_count": null,
      "outputs": [
        {
          "output_type": "stream",
          "name": "stdout",
          "text": [
            "Mounted at /content/drive\n"
          ]
        }
      ]
    },
    {
      "cell_type": "code",
      "execution_count": null,
      "metadata": {
        "id": "2jz-RITv4Nmx"
      },
      "outputs": [],
      "source": [
        "import os\n",
        "import numpy as np\n",
        "import pandas as pd\n",
        "import matplotlib.pyplot as plt\n",
        "import tensorflow as tf\n",
        "import numpy as np\n",
        "from tensorflow.keras.applications.resnet50 import ResNet50\n",
        "from tensorflow.keras.models import Model\n",
        "from tensorflow.keras.layers import GlobalAveragePooling2D\n",
        "from tensorflow.keras.layers import MaxPool2D"
      ]
    },
    {
      "cell_type": "code",
      "source": [
        "train_dir='/content/drive/MyDrive/Vegetable_Images/train'\n",
        "val_dir='/content/drive/MyDrive/Vegetable_Images/validation'\n",
        "test_dir='/content/drive/MyDrive/Vegetable_Images/test'"
      ],
      "metadata": {
        "id": "9-wsO0VD6hrN"
      },
      "execution_count": null,
      "outputs": []
    },
    {
      "cell_type": "code",
      "source": [
        "img_height = 224\n",
        "img_width = 224\n",
        "batch_size = 32\n",
        "\n",
        "train_ds = tf.keras.preprocessing.image_dataset_from_directory(\n",
        "    train_dir,\n",
        "    seed=123,\n",
        "    image_size=(img_height, img_width),\n",
        "    batch_size=batch_size)\n",
        "\n",
        "test_ds = tf.keras.preprocessing.image_dataset_from_directory(\n",
        "    test_dir,\n",
        "    seed=123,\n",
        "    image_size=(img_height, img_width),\n",
        "    batch_size=1)\n",
        "\n",
        "val_ds = tf.keras.preprocessing.image_dataset_from_directory(\n",
        "    val_dir,\n",
        "    seed=123,\n",
        "    image_size=(img_height, img_width),\n",
        "    batch_size=batch_size)"
      ],
      "metadata": {
        "colab": {
          "base_uri": "https://localhost:8080/"
        },
        "id": "xuSqa_-A6olm",
        "outputId": "82d6ad1f-7821-4560-a15a-9dab262ad928"
      },
      "execution_count": null,
      "outputs": [
        {
          "output_type": "stream",
          "name": "stdout",
          "text": [
            "Found 15000 files belonging to 15 classes.\n",
            "Found 3000 files belonging to 15 classes.\n",
            "Found 3000 files belonging to 15 classes.\n"
          ]
        }
      ]
    },
    {
      "cell_type": "code",
      "source": [
        "resnet_model = ResNet50(include_top=False,weights=\"imagenet\")\n",
        "x = resnet_model.output\n",
        "x = GlobalAveragePooling2D()(x)\n",
        "x = tf.keras.layers.Dense(1024,activation='relu')(x)\n",
        "x = tf.keras.layers.Dense(512,activation='relu')(x)\n",
        "res = tf.keras.layers.Dense(15, activation=\"softmax\")(x)\n",
        "\n",
        "# generate our model\n",
        "model = Model(inputs=resnet_model.input, outputs=res)\n",
        "# model.summary()\n"
      ],
      "metadata": {
        "id": "_oSuY6s7Kbcp",
        "colab": {
          "base_uri": "https://localhost:8080/"
        },
        "outputId": "c17058e4-5d02-460c-ce91-a4c0627707e1"
      },
      "execution_count": null,
      "outputs": [
        {
          "output_type": "stream",
          "name": "stdout",
          "text": [
            "Downloading data from https://storage.googleapis.com/tensorflow/keras-applications/resnet/resnet50_weights_tf_dim_ordering_tf_kernels_notop.h5\n",
            "94773248/94765736 [==============================] - 0s 0us/step\n",
            "94781440/94765736 [==============================] - 0s 0us/step\n"
          ]
        }
      ]
    },
    {
      "cell_type": "code",
      "source": [
        "# will not retrain weights\n",
        "for layer in resnet_model.layers:\n",
        "    layer.trainable = False\n",
        "\n",
        "model.compile(\n",
        "    optimizer = tf.keras.optimizers.SGD(learning_rate=0.005),\n",
        "    loss = tf.losses.SparseCategoricalCrossentropy(),\n",
        "    metrics = ['accuracy'])\n",
        "\n",
        "hist = model.fit(\n",
        "    train_ds,\n",
        "    validation_data = val_ds,\n",
        "    epochs = 5,\n",
        "    steps_per_epoch = len(train_ds),\n",
        "    validation_steps = len(val_ds))\n",
        "\n",
        "model.save(r\"/content/drive/MyDrive/Vegetable_Images/model\")"
      ],
      "metadata": {
        "colab": {
          "base_uri": "https://localhost:8080/"
        },
        "id": "afWKKj_RyTnI",
        "outputId": "fdb98f1e-63ba-4488-ff20-bf6a36f12120"
      },
      "execution_count": null,
      "outputs": [
        {
          "output_type": "stream",
          "name": "stdout",
          "text": [
            "Epoch 1/5\n",
            "421/469 [=========================>....] - ETA: 4:31 - loss: 0.3588 - accuracy: 0.9351"
          ]
        }
      ]
    },
    {
      "cell_type": "code",
      "source": [
        "model.evaluate(test_ds)"
      ],
      "metadata": {
        "id": "86GepO3lr4jR",
        "colab": {
          "base_uri": "https://localhost:8080/"
        },
        "outputId": "41fb9fdf-c894-4ef5-a20e-c1cbc928f2f0"
      },
      "execution_count": null,
      "outputs": [
        {
          "output_type": "stream",
          "name": "stdout",
          "text": [
            "3000/3000 [==============================] - 355s 118ms/step - loss: 0.0172 - accuracy: 0.9983\n"
          ]
        },
        {
          "output_type": "execute_result",
          "data": {
            "text/plain": [
              "[0.01719893328845501, 0.9983333349227905]"
            ]
          },
          "metadata": {},
          "execution_count": 22
        }
      ]
    },
    {
      "cell_type": "code",
      "source": [
        "import seaborn as sns\n",
        "def plot_history(history):\n",
        "  fig,ax = plt.subplots(1,2,figsize=(16,6))\n",
        "  history_data = pd.DataFrame(history.history)\n",
        "  sns.lineplot(data=history_data[['loss','val_loss']],ax=ax[0])\n",
        "  sns.lineplot(data=history_data[['accuracy','val_accuracy']],ax=ax[1])\n",
        "  plt.xlabel('Epochs');\n",
        "    \n",
        "plot_history(hist)"
      ],
      "metadata": {
        "id": "GPwkHxfZyVe1",
        "colab": {
          "base_uri": "https://localhost:8080/",
          "height": 388
        },
        "outputId": "3e72de68-8e22-4793-9474-68cbb9d18f5f"
      },
      "execution_count": null,
      "outputs": [
        {
          "output_type": "display_data",
          "data": {
            "text/plain": [
              "<Figure size 1152x432 with 2 Axes>"
            ],
            "image/png": "[encoded data removed]"
          },
          "metadata": {
            "needs_background": "light"
          }
        }
      ]
    },
    {
      "cell_type": "code",
      "source": [
        "len(train_ds)"
      ],
      "metadata": {
        "colab": {
          "base_uri": "https://localhost:8080/"
        },
        "id": "zgrUuA1w49Jt",
        "outputId": "e5b944dc-c0e5-45b1-fcf4-1d9fe48e916f"
      },
      "execution_count": null,
      "outputs": [
        {
          "output_type": "execute_result",
          "data": {
            "text/plain": [
              "469"
            ]
          },
          "metadata": {},
          "execution_count": 7
        }
      ]
    },
    {
      "cell_type": "code",
      "source": [
        "next(iter(train_ds))[1].shape"
      ],
      "metadata": {
        "colab": {
          "base_uri": "https://localhost:8080/"
        },
        "id": "M0nJeXxTsgGE",
        "outputId": "e377001e-03ff-4d72-bcd4-09c483960cbc"
      },
      "execution_count": null,
      "outputs": [
        {
          "output_type": "execute_result",
          "data": {
            "text/plain": [
              "TensorShape([32])"
            ]
          },
          "metadata": {},
          "execution_count": 37
        }
      ]
    },
    {
      "cell_type": "code",
      "source": [
        ""
      ],
      "metadata": {
        "id": "-hdIoWgcr1Qz"
      },
      "execution_count": null,
      "outputs": []
    }
  ]
}