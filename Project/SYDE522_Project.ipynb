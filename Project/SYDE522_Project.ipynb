{
  "nbformat": 4,
  "nbformat_minor": 0,
  "metadata": {
    "colab": {
      "name": "SYDE522_Project.ipynb",
      "provenance": [],
      "collapsed_sections": [
        "5sJb7MCtwicl",
        "TdVTzrVKv19n"
      ]
    },
    "kernelspec": {
      "name": "python3",
      "display_name": "Python 3"
    },
    "language_info": {
      "name": "python"
    },
    "accelerator": "GPU"
  },
  "cells": [
    {
      "cell_type": "markdown",
      "source": [
        "# Data Loading"
      ],
      "metadata": {
        "id": "3vEX2j8H6uR2"
      }
    },
    {
      "cell_type": "code",
      "source": [
        "from google.colab import drive\n",
        "drive.mount('/content/gdrive')\n",
        "import sys    \n",
        "path_to_module = '/content/gdrive/MyDrive/SYDE522'\n",
        "sys.path.append(path_to_module)"
      ],
      "metadata": {
        "colab": {
          "base_uri": "https://localhost:8080/"
        },
        "id": "afuHdLi2iQbc",
        "outputId": "dec9a75c-5573-401d-d838-4c45232e9861"
      },
      "execution_count": 1,
      "outputs": [
        {
          "output_type": "stream",
          "name": "stdout",
          "text": [
            "Drive already mounted at /content/gdrive; to attempt to forcibly remount, call drive.mount(\"/content/gdrive\", force_remount=True).\n"
          ]
        }
      ]
    },
    {
      "cell_type": "code",
      "source": [
        "!unzip  '/content/gdrive/MyDrive/SYDE522/archive.zip' -d /content/"
      ],
      "metadata": {
        "id": "DPp6GWQ_i_8m"
      },
      "execution_count": null,
      "outputs": []
    },
    {
      "cell_type": "code",
      "source": [
        "train_dir='/content/Vegetable Images/train'\n",
        "val_dir='/content/Vegetable Images/validation'\n",
        "test_dir='/content/Vegetable Images/test'"
      ],
      "metadata": {
        "id": "ZM3WDJZK9WYp"
      },
      "execution_count": 2,
      "outputs": []
    },
    {
      "cell_type": "markdown",
      "source": [
        "# Keras Model --> CNN + Softmax"
      ],
      "metadata": {
        "id": "5sJb7MCtwicl"
      }
    },
    {
      "cell_type": "code",
      "source": [
        "import os\n",
        "from tensorflow.keras.layers import Dense, Conv2D, MaxPooling2D, Flatten, GlobalMaxPooling2D, Activation\n",
        "from tensorflow.keras.preprocessing.image import ImageDataGenerator\n",
        "from tensorflow.keras.regularizers import l2\n",
        "from tensorflow.keras.models import Sequential\n",
        "from matplotlib import pyplot as plt\n",
        "import seaborn as sns"
      ],
      "metadata": {
        "id": "fnpWriBTxBvk"
      },
      "execution_count": 3,
      "outputs": []
    },
    {
      "cell_type": "code",
      "source": [
        "train_datagen = ImageDataGenerator(rescale=1./255,\n",
        "                    shear_range=0.2,\n",
        "                    horizontal_flip=True)\n",
        "valid_datagen = ImageDataGenerator(rescale=1./255,\n",
        "                    shear_range=0.2,\n",
        "                    horizontal_flip=True)\n",
        "test_datagen = ImageDataGenerator(rescale=1./255)\n",
        "\n",
        "\n",
        "train_datagen_flow = train_datagen.flow_from_directory(train_dir, target_size=(150, 150), batch_size=32, seed=42, class_mode='categorical')\n",
        "valid_datagen_flow = valid_datagen.flow_from_directory(val_dir, target_size=(150, 150), batch_size=32, seed=42, class_mode='categorical')\n",
        "test_datagen_flow = test_datagen.flow_from_directory(test_dir, target_size=(150, 150), batch_size=1, seed=42, class_mode='categorical')"
      ],
      "metadata": {
        "colab": {
          "base_uri": "https://localhost:8080/"
        },
        "id": "M1IbJPNGxCO-",
        "outputId": "33c24a93-d0d7-47ff-cd90-89ccd9a3d35b"
      },
      "execution_count": 4,
      "outputs": [
        {
          "output_type": "stream",
          "name": "stdout",
          "text": [
            "Found 15000 images belonging to 15 classes.\n",
            "Found 3000 images belonging to 15 classes.\n",
            "Found 3000 images belonging to 15 classes.\n"
          ]
        }
      ]
    },
    {
      "cell_type": "code",
      "source": [
        "model = Sequential()\n",
        "model.add(Conv2D(32, (3,3), activation='relu', input_shape=(150, 150, 3)))\n",
        "model.add(MaxPooling2D(2,2))\n",
        "model.add(Conv2D(64, (3,3), activation='relu'))\n",
        "model.add(MaxPooling2D(2,2))\n",
        "model.add(Conv2D(128, (3,3), activation='relu'))\n",
        "model.add(Flatten())\n",
        "model.add(Dense(1024, activation='relu'))\n",
        "model.add(Dense(512, activation='relu'))\n",
        "model.add(Dense(15, activation='softmax'))"
      ],
      "metadata": {
        "id": "r18qORkZxD2m"
      },
      "execution_count": 5,
      "outputs": []
    },
    {
      "cell_type": "code",
      "source": [
        "model.compile(loss='categorical_crossentropy', metrics=['acc', 'AUC'], optimizer='adam')\n",
        "model.fit(train_datagen_flow, validation_data=valid_datagen_flow, steps_per_epoch=len(train_datagen_flow), \n",
        "          validation_steps=len(valid_datagen_flow), epochs=5, verbose=1)"
      ],
      "metadata": {
        "colab": {
          "base_uri": "https://localhost:8080/"
        },
        "id": "kDLsliUExIPi",
        "outputId": "b4582aaf-1cee-4493-87ad-c694edefcedf"
      },
      "execution_count": 6,
      "outputs": [
        {
          "output_type": "stream",
          "name": "stdout",
          "text": [
            "Epoch 1/5\n",
            "469/469 [==============================] - 118s 243ms/step - loss: 1.1227 - acc: 0.6243 - auc: 0.9516 - val_loss: 0.5550 - val_acc: 0.8227 - val_auc: 0.9874\n",
            "Epoch 2/5\n",
            "469/469 [==============================] - 113s 240ms/step - loss: 0.4122 - acc: 0.8675 - auc: 0.9912 - val_loss: 0.5022 - val_acc: 0.8443 - val_auc: 0.9864\n",
            "Epoch 3/5\n",
            "469/469 [==============================] - 112s 239ms/step - loss: 0.2695 - acc: 0.9165 - auc: 0.9949 - val_loss: 0.3777 - val_acc: 0.8953 - val_auc: 0.9888\n",
            "Epoch 4/5\n",
            "469/469 [==============================] - 113s 240ms/step - loss: 0.1902 - acc: 0.9438 - auc: 0.9966 - val_loss: 0.3300 - val_acc: 0.9010 - val_auc: 0.9910\n",
            "Epoch 5/5\n",
            "469/469 [==============================] - 113s 240ms/step - loss: 0.1310 - acc: 0.9600 - auc: 0.9978 - val_loss: 0.1977 - val_acc: 0.9473 - val_auc: 0.9961\n"
          ]
        },
        {
          "output_type": "execute_result",
          "data": {
            "text/plain": [
              "<keras.callbacks.History at 0x7fa955426510>"
            ]
          },
          "metadata": {},
          "execution_count": 6
        }
      ]
    },
    {
      "cell_type": "code",
      "source": [
        "model.evaluate(test_datagen_flow)"
      ],
      "metadata": {
        "colab": {
          "base_uri": "https://localhost:8080/"
        },
        "id": "ZyM1lkPmxIvK",
        "outputId": "ae05fc04-0087-468f-b6fa-609f58241538"
      },
      "execution_count": 7,
      "outputs": [
        {
          "output_type": "stream",
          "name": "stdout",
          "text": [
            "3000/3000 [==============================] - 20s 7ms/step - loss: 0.2101 - acc: 0.9380 - auc: 0.9955\n"
          ]
        },
        {
          "output_type": "execute_result",
          "data": {
            "text/plain": [
              "[0.21013502776622772, 0.9380000233650208, 0.9954859018325806]"
            ]
          },
          "metadata": {},
          "execution_count": 7
        }
      ]
    },
    {
      "cell_type": "markdown",
      "source": [
        "# Keras Model --> CNN + SVM"
      ],
      "metadata": {
        "id": "TdVTzrVKv19n"
      }
    },
    {
      "cell_type": "code",
      "source": [
        "import os\n",
        "from tensorflow.keras.layers import Dense, Conv2D, MaxPooling2D, Flatten, GlobalMaxPooling2D, Activation\n",
        "from tensorflow.keras.preprocessing.image import ImageDataGenerator\n",
        "from tensorflow.keras.regularizers import l2\n",
        "from tensorflow.keras.models import Sequential\n",
        "from matplotlib import pyplot as plt\n",
        "import seaborn as sns"
      ],
      "metadata": {
        "id": "YIum6rkA62oc"
      },
      "execution_count": 8,
      "outputs": []
    },
    {
      "cell_type": "code",
      "source": [
        "train_datagen = ImageDataGenerator(rescale=1./255,\n",
        "                    shear_range=0.2,\n",
        "                    horizontal_flip=True)\n",
        "valid_datagen = ImageDataGenerator(rescale=1./255,\n",
        "                    shear_range=0.2,\n",
        "                    horizontal_flip=True)\n",
        "test_datagen = ImageDataGenerator(rescale=1./255)\n",
        "\n",
        "\n",
        "train_datagen_flow = train_datagen.flow_from_directory(train_dir, target_size=(150, 150), batch_size=32, seed=42, class_mode='categorical')\n",
        "valid_datagen_flow = valid_datagen.flow_from_directory(val_dir, target_size=(150, 150), batch_size=32, seed=42, class_mode='categorical')\n",
        "test_datagen_flow = test_datagen.flow_from_directory(test_dir, target_size=(150, 150), batch_size=1, seed=42, class_mode='categorical')"
      ],
      "metadata": {
        "colab": {
          "base_uri": "https://localhost:8080/"
        },
        "id": "cABo0sX066xJ",
        "outputId": "83b16aef-0065-4bf4-ac4e-877031aedb57"
      },
      "execution_count": 9,
      "outputs": [
        {
          "output_type": "stream",
          "name": "stdout",
          "text": [
            "Found 15000 images belonging to 15 classes.\n",
            "Found 3000 images belonging to 15 classes.\n",
            "Found 3000 images belonging to 15 classes.\n"
          ]
        }
      ]
    },
    {
      "cell_type": "code",
      "source": [
        "model = Sequential()\n",
        "model.add(Conv2D(32, (3,3), activation='relu', input_shape=(150, 150, 3)))\n",
        "model.add(MaxPooling2D(2,2))\n",
        "model.add(Conv2D(64, (3,3), activation='relu'))\n",
        "model.add(MaxPooling2D(2,2))\n",
        "model.add(Conv2D(128, (3,3), activation='relu'))\n",
        "model.add(Flatten())\n",
        "model.add(Dense(1024, activation='relu'))\n",
        "model.add(Dense(512, activation='relu'))\n",
        "model.add(Dense(15, kernel_regularizer=l2(0.001)))\n",
        "model.add(Activation('linear'))"
      ],
      "metadata": {
        "id": "0G4wwjqb7An_"
      },
      "execution_count": 11,
      "outputs": []
    },
    {
      "cell_type": "code",
      "source": [
        "model.compile(loss='squared_hinge', optimizer='adam', metrics=['accuracy'])\n",
        "model.fit(train_datagen_flow, validation_data=valid_datagen_flow, steps_per_epoch=len(train_datagen_flow), \n",
        "          validation_steps=len(valid_datagen_flow), epochs=5, verbose=1)"
      ],
      "metadata": {
        "colab": {
          "base_uri": "https://localhost:8080/"
        },
        "id": "FKq9GuII7CPe",
        "outputId": "aed50750-5f7a-455f-90ef-84749769ccb0"
      },
      "execution_count": 12,
      "outputs": [
        {
          "output_type": "stream",
          "name": "stdout",
          "text": [
            "Epoch 1/5\n",
            "469/469 [==============================] - 115s 244ms/step - loss: 0.3070 - accuracy: 0.5427 - val_loss: 0.1188 - val_accuracy: 0.7780\n",
            "Epoch 2/5\n",
            "469/469 [==============================] - 113s 240ms/step - loss: 0.0839 - accuracy: 0.8537 - val_loss: 0.0781 - val_accuracy: 0.8713\n",
            "Epoch 3/5\n",
            "469/469 [==============================] - 113s 240ms/step - loss: 0.0514 - accuracy: 0.9273 - val_loss: 0.0655 - val_accuracy: 0.8920\n",
            "Epoch 4/5\n",
            "469/469 [==============================] - 112s 239ms/step - loss: 0.0353 - accuracy: 0.9588 - val_loss: 0.0390 - val_accuracy: 0.9503\n",
            "Epoch 5/5\n",
            "469/469 [==============================] - 113s 240ms/step - loss: 0.0250 - accuracy: 0.9755 - val_loss: 0.0396 - val_accuracy: 0.9443\n"
          ]
        },
        {
          "output_type": "execute_result",
          "data": {
            "text/plain": [
              "<keras.callbacks.History at 0x7fa84e173750>"
            ]
          },
          "metadata": {},
          "execution_count": 12
        }
      ]
    },
    {
      "cell_type": "code",
      "source": [
        "model.evaluate(test_datagen_flow)"
      ],
      "metadata": {
        "colab": {
          "base_uri": "https://localhost:8080/"
        },
        "id": "sraVr23K7F5E",
        "outputId": "c9896555-173e-4613-ba84-11cb40007990"
      },
      "execution_count": 13,
      "outputs": [
        {
          "output_type": "stream",
          "name": "stdout",
          "text": [
            "3000/3000 [==============================] - 19s 6ms/step - loss: 0.0417 - accuracy: 0.9397\n"
          ]
        },
        {
          "output_type": "execute_result",
          "data": {
            "text/plain": [
              "[0.041656963527202606, 0.9396666884422302]"
            ]
          },
          "metadata": {},
          "execution_count": 13
        }
      ]
    },
    {
      "cell_type": "markdown",
      "source": [
        "# Kera Model --> CNN + Softmax & SVM"
      ],
      "metadata": {
        "id": "ijwPIrUU-wv9"
      }
    },
    {
      "cell_type": "code",
      "source": [
        "import os\n",
        "from tensorflow.keras.layers import Dense, Conv2D, MaxPooling2D, Flatten, GlobalMaxPooling2D, Activation\n",
        "from tensorflow.keras.preprocessing.image import ImageDataGenerator\n",
        "from tensorflow.keras.regularizers import l2\n",
        "from tensorflow.keras.models import Sequential\n",
        "from matplotlib import pyplot as plt\n",
        "import seaborn as sns"
      ],
      "metadata": {
        "id": "Ca08XGI8-2j9"
      },
      "execution_count": 14,
      "outputs": []
    },
    {
      "cell_type": "code",
      "source": [
        "train_datagen = ImageDataGenerator(rescale=1./255,\n",
        "                    shear_range=0.2,\n",
        "                    horizontal_flip=True)\n",
        "valid_datagen = ImageDataGenerator(rescale=1./255,\n",
        "                    shear_range=0.2,\n",
        "                    horizontal_flip=True)\n",
        "test_datagen = ImageDataGenerator(rescale=1./255)\n",
        "\n",
        "\n",
        "train_datagen_flow = train_datagen.flow_from_directory(train_dir, target_size=(150, 150), batch_size=32, seed=42, class_mode='categorical')\n",
        "valid_datagen_flow = valid_datagen.flow_from_directory(val_dir, target_size=(150, 150), batch_size=32, seed=42, class_mode='categorical')\n",
        "test_datagen_flow = test_datagen.flow_from_directory(test_dir, target_size=(150, 150), batch_size=1, seed=42, class_mode='categorical')"
      ],
      "metadata": {
        "colab": {
          "base_uri": "https://localhost:8080/"
        },
        "id": "aoxclp7R_uHE",
        "outputId": "4bef6d1f-38ff-4766-963a-130fdcddcb7c"
      },
      "execution_count": 15,
      "outputs": [
        {
          "output_type": "stream",
          "name": "stdout",
          "text": [
            "Found 15000 images belonging to 15 classes.\n",
            "Found 3000 images belonging to 15 classes.\n",
            "Found 3000 images belonging to 15 classes.\n"
          ]
        }
      ]
    },
    {
      "cell_type": "code",
      "source": [
        "model = Sequential()\n",
        "model.add(Conv2D(32, (3,3), activation='relu', input_shape=(150, 150, 3)))\n",
        "model.add(MaxPooling2D(2,2))\n",
        "model.add(Conv2D(64, (3,3), activation='relu'))\n",
        "model.add(MaxPooling2D(2,2))\n",
        "model.add(Conv2D(128, (3,3), activation='relu'))\n",
        "model.add(Flatten())\n",
        "model.add(Dense(1024, activation='relu'))\n",
        "model.add(Dense(512, activation='relu'))\n",
        "model.add(Dense(15, activation='softmax', kernel_regularizer=l2(0.001)))"
      ],
      "metadata": {
        "id": "MufJtxLG_ue9"
      },
      "execution_count": 16,
      "outputs": []
    },
    {
      "cell_type": "code",
      "source": [
        "model.compile(loss='squared_hinge', optimizer='adam', metrics=['accuracy'])\n",
        "model.fit(train_datagen_flow, validation_data=valid_datagen_flow, steps_per_epoch=len(train_datagen_flow), \n",
        "          validation_steps=len(valid_datagen_flow), epochs=5, verbose=1)"
      ],
      "metadata": {
        "colab": {
          "base_uri": "https://localhost:8080/"
        },
        "id": "hp5neynR_0Lr",
        "outputId": "749f837a-94ac-402f-e31d-5fe4e08093c5"
      },
      "execution_count": 17,
      "outputs": [
        {
          "output_type": "stream",
          "name": "stdout",
          "text": [
            "Epoch 1/5\n",
            "469/469 [==============================] - 113s 240ms/step - loss: 1.0753 - accuracy: 0.4149 - val_loss: 1.0393 - val_accuracy: 0.5787\n",
            "Epoch 2/5\n",
            "469/469 [==============================] - 111s 237ms/step - loss: 1.0186 - accuracy: 0.6727 - val_loss: 1.0035 - val_accuracy: 0.7310\n",
            "Epoch 3/5\n",
            "469/469 [==============================] - 111s 237ms/step - loss: 1.0026 - accuracy: 0.7399 - val_loss: 0.9862 - val_accuracy: 0.8043\n",
            "Epoch 4/5\n",
            "469/469 [==============================] - 111s 237ms/step - loss: 0.9849 - accuracy: 0.8093 - val_loss: 0.9899 - val_accuracy: 0.7910\n",
            "Epoch 5/5\n",
            "469/469 [==============================] - 111s 237ms/step - loss: 0.9804 - accuracy: 0.8242 - val_loss: 0.9776 - val_accuracy: 0.8370\n"
          ]
        },
        {
          "output_type": "execute_result",
          "data": {
            "text/plain": [
              "<keras.callbacks.History at 0x7fa73aac7c90>"
            ]
          },
          "metadata": {},
          "execution_count": 17
        }
      ]
    },
    {
      "cell_type": "code",
      "source": [
        "model.evaluate(test_datagen_flow)"
      ],
      "metadata": {
        "colab": {
          "base_uri": "https://localhost:8080/"
        },
        "id": "--JyGAid_3Td",
        "outputId": "4adc3b40-17c0-4e30-f6bb-fd755462a130"
      },
      "execution_count": 18,
      "outputs": [
        {
          "output_type": "stream",
          "name": "stdout",
          "text": [
            "3000/3000 [==============================] - 18s 6ms/step - loss: 0.9766 - accuracy: 0.8403\n"
          ]
        },
        {
          "output_type": "execute_result",
          "data": {
            "text/plain": [
              "[0.9765672087669373, 0.8403333425521851]"
            ]
          },
          "metadata": {},
          "execution_count": 18
        }
      ]
    }
  ]
}